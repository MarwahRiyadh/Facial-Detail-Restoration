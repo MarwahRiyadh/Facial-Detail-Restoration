{
 "cells": [
  {
   "cell_type": "code",
   "execution_count": null,
   "id": "f9e48fb7",
   "metadata": {},
   "outputs": [],
   "source": [
    "\n",
    "!git clone https://github.com/TencentARC/GFPGAN.git\n",
    "%cd GFPGAN\n",
    "!pip install basicsr facexlib gfpgan -q\n",
    "!python scripts/download_pretrained_models.py\n"
   ]
  },
  {
   "cell_type": "code",
   "execution_count": null,
   "id": "da758d53",
   "metadata": {},
   "outputs": [],
   "source": [
    "\n",
    "# أنشئ مجلد للصور المشوهة (التي سترفعها عبر واجهة Kaggle)\n",
    "!mkdir -p inputs/whole_imgs\n",
    "# افترض أنك رفعت صورة مثلاً: /kaggle/input/test-face/test_face.jpg\n",
    "!cp /kaggle/input/test-face/test_face.jpg inputs/whole_imgs/\n"
   ]
  },
  {
   "cell_type": "code",
   "execution_count": null,
   "id": "323c6040",
   "metadata": {},
   "outputs": [],
   "source": [
    "\n",
    "# تشغيل النموذج على الصورة\n",
    "!python inference_gfpgan.py -i inputs/whole_imgs -o results -v 1.3 --upscale 2 --face_enhance\n"
   ]
  },
  {
   "cell_type": "code",
   "execution_count": null,
   "id": "bdb7d24b",
   "metadata": {},
   "outputs": [],
   "source": [
    "\n",
    "# عرض الصورة الناتجة داخل نوتبوك Kaggle\n",
    "from IPython.display import Image, display\n",
    "display(Image(filename='results/restored_imgs/test_face.jpg'))\n"
   ]
  }
 ],
 "metadata": {
  "kernelspec": {
   "display_name": "Python 3",
   "name": "python3"
  }
 },
 "nbformat": 4,
 "nbformat_minor": 5
}